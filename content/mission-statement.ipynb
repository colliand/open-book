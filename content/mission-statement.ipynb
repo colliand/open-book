{
 "cells": [
  {
   "cell_type": "markdown",
   "id": "8815eaad-2057-40ec-9a12-095b7e9d68dc",
   "metadata": {},
   "source": [
    "# Mission Statement"
   ]
  }
 ],
 "metadata": {
  "kernelspec": {
   "display_name": "Python 3 (ipykernel)",
   "language": "python",
   "name": "python3"
  },
  "language_info": {
   "codemirror_mode": {
    "name": "ipython",
    "version": 3
   },
   "file_extension": ".py",
   "mimetype": "text/x-python",
   "name": "python",
   "nbconvert_exporter": "python",
   "pygments_lexer": "ipython3",
   "version": "3.10.12"
  }
 },
 "nbformat": 4,
 "nbformat_minor": 5
}

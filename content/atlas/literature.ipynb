{
 "cells": [
  {
   "cell_type": "markdown",
   "id": "e08c1041-5be8-413d-92fb-2f7f9759c001",
   "metadata": {},
   "source": [
    "# Scholarly Literature"
   ]
  },
  {
   "cell_type": "code",
   "execution_count": null,
   "id": "6325c36b-66e3-453a-8b53-104cf5403a72",
   "metadata": {},
   "outputs": [],
   "source": []
  }
 ],
 "metadata": {
  "kernelspec": {
   "display_name": "Python 3 (ipykernel)",
   "language": "python",
   "name": "python3"
  },
  "language_info": {
   "codemirror_mode": {
    "name": "ipython",
    "version": 3
   },
   "file_extension": ".py",
   "mimetype": "text/x-python",
   "name": "python",
   "nbconvert_exporter": "python",
   "pygments_lexer": "ipython3",
   "version": "3.10.12"
  }
 },
 "nbformat": 4,
 "nbformat_minor": 5
}

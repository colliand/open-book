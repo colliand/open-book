{
 "cells": [
  {
   "cell_type": "markdown",
   "id": "37f30f1d-4a00-414d-9e70-be31983c69e9",
   "metadata": {},
   "source": [
    "# Documentation"
   ]
  },
  {
   "cell_type": "markdown",
   "id": "6193e101-3e6e-4cc6-b747-365cc505efb0",
   "metadata": {},
   "source": [
    "Scaffolding for a Digital Village's documenation\n",
    "1. Curated documentation from adjacent communities\n",
    "2. Suggested workflows for co-creating documentation for the Digital Village\n"
   ]
  }
 ],
 "metadata": {
  "kernelspec": {
   "display_name": "Python 3 (ipykernel)",
   "language": "python",
   "name": "python3"
  },
  "language_info": {
   "codemirror_mode": {
    "name": "ipython",
    "version": 3
   },
   "file_extension": ".py",
   "mimetype": "text/x-python",
   "name": "python",
   "nbconvert_exporter": "python",
   "pygments_lexer": "ipython3",
   "version": "3.10.12"
  }
 },
 "nbformat": 4,
 "nbformat_minor": 5
}

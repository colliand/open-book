{
 "cells": [
  {
   "cell_type": "markdown",
   "id": "eb65f296-eb7a-4d03-a844-7c3438c85b12",
   "metadata": {},
   "source": [
    "# Blog"
   ]
  },
  {
   "cell_type": "code",
   "execution_count": null,
   "id": "1fec6f5b-6a17-4281-8a2c-8a7cf547ed61",
   "metadata": {},
   "outputs": [],
   "source": []
  }
 ],
 "metadata": {
  "kernelspec": {
   "display_name": "Python 3 (ipykernel)",
   "language": "python",
   "name": "python3"
  },
  "language_info": {
   "codemirror_mode": {
    "name": "ipython",
    "version": 3
   },
   "file_extension": ".py",
   "mimetype": "text/x-python",
   "name": "python",
   "nbconvert_exporter": "python",
   "pygments_lexer": "ipython3",
   "version": "3.10.12"
  }
 },
 "nbformat": 4,
 "nbformat_minor": 5
}

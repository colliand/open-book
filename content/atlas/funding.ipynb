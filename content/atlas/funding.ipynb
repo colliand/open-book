{
 "cells": [
  {
   "cell_type": "markdown",
   "id": "9e32bf39-6b2e-45a5-a005-34e41ffbe321",
   "metadata": {},
   "source": [
    "# Funding"
   ]
  },
  {
   "cell_type": "markdown",
   "id": "d7ef2038-795c-4863-a2f4-f7872a7ab304",
   "metadata": {},
   "source": [
    "Systems for funding a Digital Village\n",
    "1. Current grants tracking\n",
    "2. ORCID or other automated aggregations of community's grants data\n",
    "3. Smart searches that show future grant opportunities?\n",
    "4. Expose synergies with other villages\n"
   ]
  },
  {
   "cell_type": "code",
   "execution_count": null,
   "id": "2db43ac5-2906-4f1c-9a55-05e78089d32b",
   "metadata": {},
   "outputs": [],
   "source": []
  }
 ],
 "metadata": {
  "kernelspec": {
   "display_name": "Python 3 (ipykernel)",
   "language": "python",
   "name": "python3"
  },
  "language_info": {
   "codemirror_mode": {
    "name": "ipython",
    "version": 3
   },
   "file_extension": ".py",
   "mimetype": "text/x-python",
   "name": "python",
   "nbconvert_exporter": "python",
   "pygments_lexer": "ipython3",
   "version": "3.10.12"
  }
 },
 "nbformat": 4,
 "nbformat_minor": 5
}

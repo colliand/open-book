{
 "cells": [
  {
   "cell_type": "markdown",
   "id": "b26d454c-889c-497f-b3c1-541353776cd3",
   "metadata": {},
   "source": [
    "# Atlas of Digital Villages\n",
    "\n",
    "J. Colliander  \n",
    "2024-12-12"
   ]
  },
  {
   "cell_type": "markdown",
   "id": "0ad75b56-77fd-40bc-a7ba-27670fc3bf83",
   "metadata": {},
   "source": [
    "Explore ideas to build an Atlas of \"Digital Villages\" supported by 2i2c.org.\n",
    "1. Design a template for Atlas entries\n",
    "2. Build a version of the template for CryoCloud\n",
    "3. Access Grafana/Prometheus or KPIs data for each hub"
   ]
  },
  {
   "cell_type": "markdown",
   "id": "45db4295-ff7a-44c9-997a-36d24cf247a9",
   "metadata": {},
   "source": [
    "## Notes\n",
    "\n",
    "> from a (private) [GitHub issue](https://github.com/2i2c-org/meta/issues/564)\n",
    ">\n",
    "+ Grant(s) that fund the community, Grant abstracts\n",
    "+ mission statement; possible impact of the community, e.g. manage North America's water resource for CIROH; improve forecasting and resilience to earthquake events in the Cascade region for CRESCENT\n",
    "+ Community composition. Population. Demographics. List of champions. Who pays for 2i2c? Who pushes boundaries of support? Who is on the job market? Who will soon write a grant? Who are the hackers or technical champions? Who wants to learn more about cloud-native workflows? Are there gatekeepers? Are there ambassadors? Are there different stakeholder archetypes in the community (career stage distribution, emergency responders, policy makers, government lab personnel, ...)\n",
    "+ Main data sources. Code snippets on how to access data sources.\n",
    "+ Most relevant scholarly literature. Zotero collection of important results associated to this community's research line. Leading researchers in the research area who are outside the disciplines.\n",
    "+ Community notebook gallery. E.g. Pangeo gallery. Static renderings of showcase notebooks that can be launched into Binder or inside the community's hub. Leveraging Thebe using the 2i2c.binder service.\n",
    "+ URLs for Digital village news. A blog stream for news in the village.\n",
    "+ URLs for training and documentation resources used by the community.\n",
    "+ Identify scientific linkages with other communities. Which other 2i2c communities are closely connected to this community?\n",
    "+ notebooks that pull in data from Grafana\n",
    "\n"
   ]
  },
  {
   "cell_type": "markdown",
   "id": "7b5c9b0e-48eb-492f-b438-86bab6e06f1c",
   "metadata": {},
   "source": [
    "## Atlas entries for describing a \"Digital Village\" supported by 2i2c\n",
    "\n",
    "+ About\n",
    "  + Mission Statement\n",
    "  + Demographics\n",
    "  + People\n",
    "  + Funding\n",
    "+ Blog\n",
    "+ Library\n",
    "  + Documentation\n",
    "  + Gallery\n",
    "+ Data\n",
    "  + Mission\n",
    "  + Hub Usage\n",
    "  + Content Impact\n"
   ]
  },
  {
   "cell_type": "code",
   "execution_count": null,
   "id": "8a1bea30-69e4-4ca9-9fbd-6e39d859adc8",
   "metadata": {},
   "outputs": [],
   "source": []
  }
 ],
 "metadata": {
  "kernelspec": {
   "display_name": "Python 3 (ipykernel)",
   "language": "python",
   "name": "python3"
  },
  "language_info": {
   "codemirror_mode": {
    "name": "ipython",
    "version": 3
   },
   "file_extension": ".py",
   "mimetype": "text/x-python",
   "name": "python",
   "nbconvert_exporter": "python",
   "pygments_lexer": "ipython3",
   "version": "3.10.12"
  }
 },
 "nbformat": 4,
 "nbformat_minor": 5
}

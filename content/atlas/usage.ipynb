{
 "cells": [
  {
   "cell_type": "markdown",
   "id": "9ae7db3e-65df-442b-837b-e9e19db68f2d",
   "metadata": {},
   "source": [
    "# Hub Usage Data"
   ]
  },
  {
   "cell_type": "markdown",
   "id": "a55a50fd-04eb-403a-b181-07cd35918692",
   "metadata": {},
   "source": [
    "Usage of Village's Hubs\n",
    "1. Grafana data\n",
    "2. Cloud costs\n",
    "3. Federated billing (costs by groups)\n"
   ]
  },
  {
   "cell_type": "code",
   "execution_count": null,
   "id": "4c92b367-7dad-4568-8930-ebbf98747891",
   "metadata": {},
   "outputs": [],
   "source": []
  }
 ],
 "metadata": {
  "kernelspec": {
   "display_name": "Python 3 (ipykernel)",
   "language": "python",
   "name": "python3"
  },
  "language_info": {
   "codemirror_mode": {
    "name": "ipython",
    "version": 3
   },
   "file_extension": ".py",
   "mimetype": "text/x-python",
   "name": "python",
   "nbconvert_exporter": "python",
   "pygments_lexer": "ipython3",
   "version": "3.10.12"
  }
 },
 "nbformat": 4,
 "nbformat_minor": 5
}

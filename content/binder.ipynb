{
 "cells": [
  {
   "cell_type": "markdown",
   "id": "e6a91eeb-6191-4a27-9aab-3acd674b227c",
   "metadata": {},
   "source": [
    "# Binder Emissions Data\n",
    "\n",
    "J. Colliander  \n",
    "2024-12-12"
   ]
  },
  {
   "cell_type": "markdown",
   "id": "e7fda107-bb08-4434-a41f-e819760b5092",
   "metadata": {},
   "source": [
    "Explore [mybinder analytics](https://archive.analytics.mybinder.org/)\n",
    "1. Collect mybinder emissions between `[start, end]` into a data frame\n",
    "2. Count emissions by source during the `[start, end]` time interval\n",
    "3. Report on sources with the most emissions during time interval\n"
   ]
  },
  {
   "cell_type": "code",
   "execution_count": null,
   "id": "16e276be-510e-465b-b435-6e3368fa0496",
   "metadata": {},
   "outputs": [],
   "source": []
  }
 ],
 "metadata": {
  "kernelspec": {
   "display_name": "Python 3 (ipykernel)",
   "language": "python",
   "name": "python3"
  },
  "language_info": {
   "codemirror_mode": {
    "name": "ipython",
    "version": 3
   },
   "file_extension": ".py",
   "mimetype": "text/x-python",
   "name": "python",
   "nbconvert_exporter": "python",
   "pygments_lexer": "ipython3",
   "version": "3.10.11"
  }
 },
 "nbformat": 4,
 "nbformat_minor": 5
}
